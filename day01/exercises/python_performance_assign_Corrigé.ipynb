{
 "cells": [
  {
   "cell_type": "markdown",
   "id": "9e8892ba",
   "metadata": {},
   "source": [
    "<h1 align=\"center\">Python performance exercises</h1>"
   ]
  },
  {
   "cell_type": "markdown",
   "id": "282983fc",
   "metadata": {},
   "source": [
    "## Python best practices exercises"
   ]
  },
  {
   "cell_type": "markdown",
   "id": "5efcd4d3",
   "metadata": {},
   "source": [
    "### Exercise 1\n",
    "\n",
    "considering the following function for concatenating list strings with delimiter."
   ]
  },
  {
   "cell_type": "code",
   "execution_count": 137,
   "id": "8d029815",
   "metadata": {},
   "outputs": [
    {
     "name": "stdout",
     "output_type": "stream",
     "text": [
      "B;o;n;j;o;u;r\n"
     ]
    }
   ],
   "source": [
    "def ft_concatenate(l_strings, d):\n",
    "    \"\"\"concatenate list of strings into one string separated by delimiter\"\"\"\n",
    "    res = l_strings[0]\n",
    "    for e in l_strings[1:]:\n",
    "        res = res + d + e\n",
    "    return res\n",
    "\n",
    "print(ft_concatenate(\"Bonjour\", \";\"))"
   ]
  },
  {
   "cell_type": "markdown",
   "id": "18ae5106",
   "metadata": {},
   "source": [
    "- profile the function and identify the bottlenecks.\n",
    "- improve speed up of the function\n",
    "*Hint: you may need to look to the string functions in python documentation*"
   ]
  },
  {
   "cell_type": "code",
   "execution_count": 177,
   "id": "024f9b98",
   "metadata": {},
   "outputs": [
    {
     "data": {
      "text/plain": [
       "'T:e:a:c:h:e:r'"
      ]
     },
     "execution_count": 177,
     "metadata": {},
     "output_type": "execute_result"
    }
   ],
   "source": [
    "# write your code here\n",
    "def ft_concatenate_string(l_string,d):\n",
    "    return str(d).join(l_string)\n",
    "ft_concatenate_string(\"Teacher\",\":\")"
   ]
  },
  {
   "cell_type": "markdown",
   "id": "554e4d1d",
   "metadata": {},
   "source": [
    "### Exercise 2\n",
    "\n",
    "In this exercise you will solve the following problem using two methods bruteforce method, and fast method.\n",
    "\n",
    "**Problem:** You are given a list of n integers, and your task is to calculate the number of distinct values in the list.\n",
    "\n",
    "**Example**\n",
    "- Input:\n",
    "5\n",
    "2 3 2 2 3\n",
    "\n",
    "- Output:\n",
    "2\n",
    "\n",
    "**Implement the following methods:**\n",
    "\n",
    "1. **bruteforce method:** create an empty list and start adding items for the given list without adding the previous item add, at the end the result list will contain unique values, print lenght of the list and you are done. \n",
    "2. **fast method** think of using Set data structure.\n",
    "\n",
    "- time the two methods, what do you think?"
   ]
  },
  {
   "cell_type": "code",
   "execution_count": 189,
   "id": "f59fffb9",
   "metadata": {},
   "outputs": [
    {
     "data": {
      "text/plain": [
       "[2, 4, 5, 3, 7, 6, 9, 8, 1]"
      ]
     },
     "execution_count": 189,
     "metadata": {},
     "output_type": "execute_result"
    }
   ],
   "source": [
    "# bruteforce method\n",
    "\n",
    "\n",
    "def Unique(L_ist):\n",
    "    List_unique = []\n",
    "    List_unique.append(L[0])\n",
    "    for i in L[1:]:\n",
    "        k = 0\n",
    "        a = i\n",
    "        for j in range(len(List_unique)):\n",
    "            if a == List_unique[j]:\n",
    "                k+=1\n",
    "        if k == 0:\n",
    "            List_unique.append(a)\n",
    "\n",
    "    return List_unique\n",
    "\n",
    "Unique([2,4,5,4,2,6,9,5,3])"
   ]
  },
  {
   "cell_type": "code",
   "execution_count": 187,
   "id": "4525cb5f",
   "metadata": {},
   "outputs": [
    {
     "data": {
      "text/plain": [
       "array([2, 3, 4, 5, 6, 9])"
      ]
     },
     "execution_count": 187,
     "metadata": {},
     "output_type": "execute_result"
    }
   ],
   "source": [
    "# fast method\n",
    "import numpy as np\n",
    "def F_Unique(L_ist):\n",
    "    L = np.unique(L_ist)\n",
    "    return L"
   ]
  },
  {
   "cell_type": "code",
   "execution_count": 197,
   "id": "68b41519",
   "metadata": {},
   "outputs": [
    {
     "name": "stdout",
     "output_type": "stream",
     "text": [
      "[1 4 8 1 8 4 1 6 2 5 2 9 5 1 4 9 7 7 6 5]\n",
      " \n",
      "[1, 4, 8, 6, 2, 5, 9, 7]\n",
      " \n",
      "[1 2 4 5 6 7 8 9]\n",
      "Start_time :275453.6286582\n",
      "End_time : 275453.6288843\n",
      "Bruteforce`s Execution time : 0.00022610003361478448\n",
      "\n",
      "Start_time :275453.6293521\n",
      "End_time : 275453.6295593\n",
      "Fast`s Execution time : 0.0002072000061161816\n"
     ]
    }
   ],
   "source": [
    "# Create a random list of numbers for testing\n",
    "\n",
    "L = np.random.randint(1,10, 20)\n",
    "print(L)\n",
    "print(\" \")\n",
    "print(Unique(L))\n",
    "print(\" \")\n",
    "print(F_Unique(L))\n",
    "\n",
    "\n",
    "# time the two methods\n",
    "\n",
    "# Bruteforce method\n",
    "U_start_time = time.perf_counter()\n",
    "Unique(L)\n",
    "U_end_time = time.perf_counter()\n",
    "print(f\"Start_time :{U_start_time}\")\n",
    "print(f\"End_time : {U_end_time}\")\n",
    "print(f\"Bruteforce`s Execution time : {U_end_time - U_start_time}\")\n",
    "print(\"\")\n",
    "\n",
    "# Fast method\n",
    "F_start_time = time.perf_counter()\n",
    "F_Unique(L)\n",
    "F_end_time = time.perf_counter()\n",
    "print(f\"Start_time :{F_start_time}\")\n",
    "print(f\"End_time : {F_end_time}\")\n",
    "print(f\"Fast`s Execution time : {F_end_time - F_start_time}\")\n",
    "\n"
   ]
  },
  {
   "cell_type": "markdown",
   "id": "2105bddb",
   "metadata": {},
   "source": [
    "## Cython exercises"
   ]
  },
  {
   "cell_type": "markdown",
   "id": "a343b5a2",
   "metadata": {},
   "source": [
    "### Exercise 1"
   ]
  },
  {
   "cell_type": "markdown",
   "id": "ace90d17",
   "metadata": {},
   "source": [
    "1. load the cython extension."
   ]
  },
  {
   "cell_type": "code",
   "execution_count": 2,
   "id": "d380d0a3",
   "metadata": {},
   "outputs": [],
   "source": [
    "import cython"
   ]
  },
  {
   "cell_type": "markdown",
   "id": "e88067aa",
   "metadata": {},
   "source": [
    "2. Considering the following polynomial function:"
   ]
  },
  {
   "cell_type": "code",
   "execution_count": 3,
   "id": "134d0004",
   "metadata": {},
   "outputs": [],
   "source": [
    "def poly(a,b):\n",
    "    return 10.5 * a + 3 * (b**2)"
   ]
  },
  {
   "cell_type": "markdown",
   "id": "b42c590f",
   "metadata": {},
   "source": [
    "- Create an equivalent Cython function of `poly` with name `poly_cy`."
   ]
  },
  {
   "cell_type": "code",
   "execution_count": 4,
   "id": "5df4d3c2",
   "metadata": {},
   "outputs": [
    {
     "data": {
      "text/plain": [
       "48.0"
      ]
     },
     "execution_count": 4,
     "metadata": {},
     "output_type": "execute_result"
    }
   ],
   "source": [
    "@cython.cfunc\n",
    "def poly_cy(a:cython.float, b:cython.float):\n",
    "    return 10.5 * a + 3 * (b**2)\n",
    "\n",
    "poly_cy(2,3)"
   ]
  },
  {
   "cell_type": "markdown",
   "id": "20771017",
   "metadata": {},
   "source": [
    "3. time the performance of Python and Cython version of the function, what is the factor of speed up between the two verions."
   ]
  },
  {
   "cell_type": "code",
   "execution_count": 8,
   "id": "46373e13",
   "metadata": {},
   "outputs": [
    {
     "name": "stdout",
     "output_type": "stream",
     "text": [
      "Start_time :223098.7882809\n",
      "End_time : 223098.7885055\n",
      "Pure python`s Execution time : 0.00022460002219304442\n",
      "\n",
      "Start_time :223098.7892768\n",
      "End_time : 223098.7894084\n",
      "Cython`s Execution time : 0.00013160001253709197\n"
     ]
    }
   ],
   "source": [
    "import time\n",
    "\n",
    "#Pure python execution time\n",
    "Py_start_time = time.perf_counter()\n",
    "poly(2,3)\n",
    "Py_end_time = time.perf_counter()\n",
    "print(f\"Start_time :{Py_start_time}\")\n",
    "print(f\"End_time : {Py_end_time}\")\n",
    "print(f\"Pure python`s Execution time : {Py_end_time - Py_start_time}\")\n",
    "print()\n",
    "\n",
    "#Cython execution time\n",
    "Cy_start_time = time.perf_counter()\n",
    "poly_cy(2,3)\n",
    "Cy_end_time = time.perf_counter()\n",
    "print(f\"Start_time :{Cy_start_time}\")\n",
    "print(f\"End_time : {Cy_end_time}\")\n",
    "print(f\"Cython`s Execution time : {Cy_end_time - Cy_start_time}\")\n",
    "\n"
   ]
  },
  {
   "cell_type": "markdown",
   "id": "6c590ba1",
   "metadata": {},
   "source": [
    "4. Now let's work on another example using loop.\n",
    "    - rewrite the same function below fib that calculates the fibonacci sequence using cython, but now try to add type for the variables used inside it, add a prefix `_cy` to your new cython function."
   ]
  },
  {
   "cell_type": "code",
   "execution_count": 9,
   "id": "6e780a2a",
   "metadata": {},
   "outputs": [],
   "source": [
    "def fib(n):\n",
    "    a, b = 1, 1\n",
    "    for i in range(n):\n",
    "        a, b = a + b, a\n",
    "\n",
    "    return a"
   ]
  },
  {
   "cell_type": "code",
   "execution_count": 10,
   "id": "679ef27d",
   "metadata": {},
   "outputs": [],
   "source": [
    "@cython.cfunc\n",
    "\n",
    "def fib_cy(n:cython.int):\n",
    "    a:cython.int\n",
    "    b:cython.int\n",
    "    a,b = 1, 1\n",
    "    for i in range(n):\n",
    "        a, b = a + b, a\n",
    "\n",
    "    return a"
   ]
  },
  {
   "cell_type": "markdown",
   "id": "50e3fdc9",
   "metadata": {},
   "source": [
    "- time the two function for fibonacci series, with n = 20, what is the factor of speed now, What do you think?"
   ]
  },
  {
   "cell_type": "code",
   "execution_count": 11,
   "id": "d90a83ed",
   "metadata": {},
   "outputs": [
    {
     "name": "stdout",
     "output_type": "stream",
     "text": [
      "Fib with python execution time: 0.00019779999274760485\n",
      "\n",
      "Fib with cython execution time: 0.00017949999892152846\n"
     ]
    }
   ],
   "source": [
    "P_start = time.perf_counter()\n",
    "fib(20)\n",
    "P_end = time.perf_counter()\n",
    "print(f\"Fib with python execution time: {P_end-P_start}\")\n",
    "\n",
    "print()\n",
    "\n",
    "C_start = time.perf_counter()\n",
    "fib_cy(20)\n",
    "C_end = time.perf_counter()\n",
    "print(f\"Fib with cython execution time: {C_end-C_start}\")"
   ]
  },
  {
   "cell_type": "markdown",
   "id": "6597443f",
   "metadata": {},
   "source": [
    "5. Recursive functions are functions that call themselves during their execution. Another interesting property of the Fibonacci sequence is that it can be written as a recursive function. That’s because each item depends on the values of other items (namely item n-1 and item n-2)\n",
    "\n",
    "- Rewrite the fib function using recursion. Is it faster than the non-recursive version? Does Cythonizing it give even more of an advantage? "
   ]
  },
  {
   "cell_type": "code",
   "execution_count": 12,
   "id": "dc765886",
   "metadata": {},
   "outputs": [],
   "source": [
    "def fibonacci(N):\n",
    "    if N == 0:\n",
    "        return 0\n",
    "\n",
    "    elif N == 1:\n",
    "        return 1\n",
    "\n",
    "    return fibonacci(N - 1) + fibonacci(N - 2)\n"
   ]
  },
  {
   "cell_type": "markdown",
   "id": "cdd229a8",
   "metadata": {},
   "source": [
    "### Exercise 2\n",
    "\n",
    "- Monte Carlo methods are a broad class of computational algorithms that rely on repeated random sampling to obtain numerical results. \n",
    "- One of the basic examples of getting started with the Monte Carlo algorithm is the estimation of Pi.\n",
    "\n",
    "**Estimation of Pi**\n",
    "\n",
    "- The idea is to simulate random (x, y) points in a 2-D plane with domain as a square of side 1 unit. \n",
    "- Imagine a circle inside the same domain with same diameter and inscribed into the square. \n",
    "- We then calculate the ratio of number points that lied inside the circle and total number of generated points. \n",
    "- Refer to the image below:\n",
    "\n",
    "![demo](../data/MonteCarloPlot.png)\n",
    "\n",
    "We know that area of the square is 1 unit sq while that of circle is $\\pi \\ast  (\\frac{1}{2})^{2} = \\frac{\\pi}{4}$. Now for a very large number of generated points,\n",
    "\n",
    "![demo](../data/MonteCarloCalc.png)\n",
    "\n",
    "\n",
    "## The Algorithm\n",
    "\n",
    "1. Initialize cile_points, square_points and interval to 0.\n",
    "2. Generate random point x.\n",
    "3. Generate random point y.\n",
    "4. Calculate d = x*x + y*y.\n",
    "5. If d <= 1, increment circle_points.\n",
    "6. Increment square_points.\n",
    "7. Increment interval.\n",
    "8. If increment < NO_OF_ITERATIONS, repeat from 2.\n",
    "9. Calculate pi = 4*(circle_points/square_points).\n",
    "10. Terminate."
   ]
  },
  {
   "cell_type": "markdown",
   "id": "71d23d4f",
   "metadata": {},
   "source": [
    "**Your mission:** time the function `monte_carlo_pi`, identify the bottlenecks and create a new version using cython functionality to speed up monte carlo simulation for PI, use 100,000 points and compare the speed up factor between python and cython, considering the following optimizations:\n",
    "- add type for variables used.\n",
    "- add type for the function\n",
    "- use c rand function instead of python rand function.\n",
    " \n",
    "*Hint: you can import function from C libraries using the following approach `from libc.<name of c library> cimport <library function name>`, replace the holders `<>` with the right identities for the current problem*"
   ]
  },
  {
   "cell_type": "code",
   "execution_count": 13,
   "id": "85006cfe",
   "metadata": {},
   "outputs": [
    {
     "name": "stdout",
     "output_type": "stream",
     "text": [
      "Start_time :223138.429376\n",
      "End_time : 223138.9414069\n",
      "Pure python`s Execution time : 0.5120309000194538\n",
      "\n"
     ]
    }
   ],
   "source": [
    "import random\n",
    "def monte_carlo_pi(nsamples):\n",
    "    pi = 0.\n",
    "    circle_points = 0\n",
    "    square_points = 0\n",
    "    incre_interval = 0\n",
    "    while incre_interval < nsamples:\n",
    "        x = random.uniform(-1,1)\n",
    "        y = random.uniform(-1,1)\n",
    "        d = x**2 + y**2\n",
    "        if d <= 1:\n",
    "            circle_points += 1\n",
    "            square_points += 1\n",
    "        elif d >= 1:\n",
    "            square_points += 1\n",
    "        incre_interval += 1    \n",
    "    pi = 4*(circle_points/square_points)\n",
    "    return pi\n",
    "\n",
    "CarloPy_start_time = time.perf_counter()\n",
    "monte_carlo_pi(100000)\n",
    "CarloPy_end_time = time.perf_counter()\n",
    "print(f\"Start_time :{CarloPy_start_time}\")\n",
    "print(f\"End_time : {CarloPy_end_time}\")\n",
    "print(f\"Pure python`s Execution time : {CarloPy_end_time - CarloPy_start_time}\")\n",
    "print()"
   ]
  },
  {
   "cell_type": "code",
   "execution_count": 119,
   "id": "a84f498e",
   "metadata": {},
   "outputs": [],
   "source": [
    "\n",
    "\n",
    "def TimePy():\n",
    "    CarloPy_start_time = time.perf_counter()\n",
    "    monte_carlo_pi(1000)\n",
    "    CarloPy_end_time = time.perf_counter()\n",
    "\n",
    "    return CarloPy_end_time - CarloPy_start_time"
   ]
  },
  {
   "cell_type": "markdown",
   "id": "bb4cc6bf",
   "metadata": {},
   "source": [
    "### Cython equivalent of the previous code"
   ]
  },
  {
   "cell_type": "code",
   "execution_count": 120,
   "id": "69a02468",
   "metadata": {},
   "outputs": [
    {
     "name": "stdout",
     "output_type": "stream",
     "text": [
      "Start_time :226146.1851419\n",
      "End_time : 226146.673718\n",
      "Cython`s Execution time : 0.4885761000041384\n",
      "\n"
     ]
    }
   ],
   "source": [
    "import random\n",
    "\n",
    "\n",
    "@cython.cfunc\n",
    "\n",
    "def monte_carlo_pi_cy(nsamples:cython.int):\n",
    "    pi:cython.double\n",
    "    circle_points:cython.int \n",
    "    square_points:cython.int\n",
    "    incre_interval:cython.int\n",
    "    x:cython.double\n",
    "    y:cython.double\n",
    "    d:cython.double\n",
    "    pi = 0.\n",
    "    circle_points = 0\n",
    "    square_points = 0\n",
    "    incre_interval = 0\n",
    "\n",
    "    while incre_interval < nsamples:\n",
    "        x = random.uniform(-1, 1)\n",
    "        y = random.uniform(-1, 1)\n",
    "        d = x**2 + y**2\n",
    "        if d <= 1:\n",
    "            circle_points += 1\n",
    "            square_points += 1\n",
    "        elif d >= 1:\n",
    "            square_points += 1\n",
    "        incre_interval += 1\n",
    "\n",
    "    pi = 4.0 * (circle_points / square_points)\n",
    "    return pi\n",
    "CarloCy_start_time = time.perf_counter()\n",
    "monte_carlo_pi_cy(100000)\n",
    "CarloCy_end_time = time.perf_counter()\n",
    "print(f\"Start_time :{CarloCy_start_time}\")\n",
    "print(f\"End_time : {CarloCy_end_time}\")\n",
    "print(f\"Cython`s Execution time : {CarloCy_end_time - CarloCy_start_time}\")\n",
    "print()"
   ]
  },
  {
   "cell_type": "code",
   "execution_count": 121,
   "id": "5ffa7bce",
   "metadata": {},
   "outputs": [],
   "source": [
    "def TimeCy():\n",
    "    CarloCy_start_time = time.perf_counter()\n",
    "    monte_carlo_pi(1000)\n",
    "    CarloCy_end_time = time.perf_counter()\n",
    "    return CarloCy_end_time - CarloCy_start_time\n"
   ]
  },
  {
   "cell_type": "markdown",
   "id": "7969c8c3",
   "metadata": {},
   "source": [
    "## Comparison"
   ]
  },
  {
   "cell_type": "code",
   "execution_count": 136,
   "id": "84dcce81",
   "metadata": {},
   "outputs": [
    {
     "name": "stdout",
     "output_type": "stream",
     "text": [
      "100 100\n"
     ]
    },
    {
     "data": {
      "text/plain": [
       "[<matplotlib.lines.Line2D at 0x14e611b3050>]"
      ]
     },
     "execution_count": 136,
     "metadata": {},
     "output_type": "execute_result"
    },
    {
     "data": {
      "image/png": "[encoded data removed]",
      "text/plain": [
       "<Figure size 640x480 with 1 Axes>"
      ]
     },
     "metadata": {},
     "output_type": "display_data"
    }
   ],
   "source": [
    "import matplotlib.pyplot as plt\n",
    "L = [i for i in range(100)]\n",
    "P_ython = [TimePy() for i in range(100)]\n",
    "C_ython = [TimeCy() for i in range(100)]\n",
    "\n",
    "print(len(L), len(P_ython))\n",
    "plt.figure()\n",
    "plt.plot(L, P_ython, color = \"red\")\n",
    "plt.plot(L, C_ython, color = \"green\")"
   ]
  },
  {
   "cell_type": "markdown",
   "id": "7cffad91",
   "metadata": {},
   "source": [
    "### Numba exercises"
   ]
  },
  {
   "cell_type": "markdown",
   "id": "5fb764ad",
   "metadata": {},
   "source": [
    "### Exercise 1\n",
    "\n",
    "Previously we considered how to approximateby Monte Carlo.\n",
    "\n",
    "- Use the same idea here, but make the code efficient using Numba.\n",
    "- Compare speed with and without Numba when the sample size is large."
   ]
  },
  {
   "cell_type": "code",
   "execution_count": 109,
   "id": "3b3720c0",
   "metadata": {},
   "outputs": [
    {
     "name": "stderr",
     "output_type": "stream",
     "text": [
      "C:\\Users\\HP\\AppData\\Local\\Temp\\ipykernel_14600\\1628963441.py:4: NumbaDeprecationWarning: \u001b[1mThe 'nopython' keyword argument was not supplied to the 'numba.jit' decorator. The implicit default value for this argument is currently False, but it will be changed to True in Numba 0.59.0. See https://numba.readthedocs.io/en/stable/reference/deprecation.html#deprecation-of-object-mode-fall-back-behaviour-when-using-jit for details.\u001b[0m\n",
      "  @jit\n"
     ]
    },
    {
     "name": "stdout",
     "output_type": "stream",
     "text": [
      "Start_time :222033.8451457\n",
      "End_time : 222034.1469281\n",
      "Cython`s Execution time : 0.30178239999804646\n",
      "\n"
     ]
    }
   ],
   "source": [
    "from numba import jit\n",
    "import random\n",
    "\n",
    "@jit\n",
    "def monte_carlo_pi_Numba(nsamples):\n",
    "    pi = 0.0\n",
    "    circle_points = 0\n",
    "    square_points = 0\n",
    "    incre_interval = 0\n",
    "\n",
    "    while incre_interval < nsamples:\n",
    "        x = random.uniform(-1, 1)\n",
    "        y = random.uniform(-1, 1)\n",
    "        d = x**2 + y**2\n",
    "        if d <= 1:\n",
    "            circle_points += 1\n",
    "            square_points += 1\n",
    "        elif d >= 1:\n",
    "            square_points += 1\n",
    "        incre_interval += 1\n",
    "\n",
    "    pi = 4.0 * (circle_points / square_points)\n",
    "    return pi\n",
    "\n",
    "CarloNumba_start_time = time.perf_counter()\n",
    "monte_carlo_pi_Numba(100000)\n",
    "CarloNumba_end_time = time.perf_counter()\n",
    "print(f\"Start_time :{CarloNumba_start_time}\")\n",
    "print(f\"End_time : {CarloNumba_end_time}\")\n",
    "print(f\"Cython`s Execution time : {CarloNumba_end_time - CarloNumba_start_time}\")\n",
    "print()"
   ]
  },
  {
   "cell_type": "markdown",
   "id": "08a72a33",
   "metadata": {},
   "source": [
    "### Exercise 2\n",
    "\n",
    "In the [Introduction to Quantitative Economics](https://python.quantecon.org/intro.html) with Python lecture series you can learn all about finite-state Markov chains.\n",
    "\n",
    "For now, let's just concentrate on simulating a very simple example of such a chain.\n",
    "\n",
    "Suppose that the volatility of returns on an asset can be in one of two regimes — high or low.\n",
    "\n",
    "The transition probabilities across states are as follows ![markov](../data/markov.png)\n",
    "\n",
    "For example, let the period length be one day, and suppose the current state is high.\n",
    "\n",
    "We see from the graph that the state tomorrow will be\n",
    "\n",
    "- high with probability 0.8\n",
    "\n",
    "- low with probability 0.2\n",
    "\n",
    "Your task is to simulate a sequence of daily volatility states according to this rule.\n",
    "\n",
    "Set the length of the sequence to `n = 1_000_000` and start in the high state.\n",
    "\n",
    "Implement a pure Python version and a Numba version, and compare speeds.\n",
    "\n",
    "To test your code, evaluate the fraction of time that the chain spends in the low state.\n",
    "\n",
    "If your code is correct, it should be about 2/3.\n",
    "\n",
    "Hints:\n",
    "\n",
    "- Represent the low state as 0 and the high state as 1.\n",
    "\n",
    "- If you want to store integers in a NumPy array and then apply JIT compilation, use `x = np.empty(n, dtype=np.int_)`.\n"
   ]
  }
 ],
 "metadata": {
  "hide_input": false,
  "kernelspec": {
   "display_name": "Python 3 (ipykernel)",
   "language": "python",
   "name": "python3"
  },
  "language_info": {
   "codemirror_mode": {
    "name": "ipython",
    "version": 3
   },
   "file_extension": ".py",
   "mimetype": "text/x-python",
   "name": "python",
   "nbconvert_exporter": "python",
   "pygments_lexer": "ipython3",
   "version": "3.11.5"
  }
 },
 "nbformat": 4,
 "nbformat_minor": 5
}
