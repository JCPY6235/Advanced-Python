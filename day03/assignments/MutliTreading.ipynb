{
 "cells": [
  {
   "cell_type": "markdown",
   "id": "1d57264a",
   "metadata": {},
   "source": [
    "## 1. Simple Thread Creation\n",
    "\n",
    "Create a simple program that uses threading to print numbers from 1 to 5 in two separate threads."
   ]
  },
  {
   "cell_type": "code",
   "execution_count": 26,
   "id": "0fb3360f",
   "metadata": {},
   "outputs": [
    {
     "name": "stdout",
     "output_type": "stream",
     "text": [
      "Thread1 : 1\n",
      "Thread2 : 1\n",
      "Thread1Thread2 : 2\n",
      " : 2\n",
      "Thread2Thread1 : 3\n",
      " : 3\n",
      "Thread1Thread2 : 4\n",
      " : 4\n",
      "Thread1Thread2 : 5\n",
      " : 5\n"
     ]
    }
   ],
   "source": [
    "# your code here\n",
    "from time import sleep, perf_counter\n",
    "from threading import Thread, Lock\n",
    "i = 0\n",
    "x =0\n",
    "def Pr(par,j):\n",
    "    for i in range(par):\n",
    "        x = i+1\n",
    "        print(j,\":\",x)\n",
    "        sleep(1)\n",
    "t1 = Thread(target=Pr, args=(5,\"Thread1\",))\n",
    "t2 = Thread(target=Pr, args=(5,\"Thread2\",))\n",
    "\n",
    "t1.start()\n",
    "t2.start()\n",
    "\n",
    "t1.join()\n",
    "t2.join() \n"
   ]
  },
  {
   "cell_type": "markdown",
   "id": "a8d8ab14",
   "metadata": {},
   "source": [
    "## 2. Thread Synchronization\n",
    "\n",
    "Modify the program from Exercise 1 to use locks to synchronize the two threads and ensure that they print numbers alternately."
   ]
  },
  {
   "cell_type": "code",
   "execution_count": 33,
   "id": "c3dbaf9d",
   "metadata": {},
   "outputs": [
    {
     "name": "stdout",
     "output_type": "stream",
     "text": [
      "T_1:1\n",
      "T_2:2\n",
      "T_1:3\n",
      "T_2:4\n",
      "T_1:5\n"
     ]
    }
   ],
   "source": [
    "# your code here\n",
    "Number = 1\n",
    "thread = \"T_1\"\n",
    "lock = Lock()\n",
    "\n",
    "def Thd1():\n",
    "    global Number,thread\n",
    "\n",
    "    while Number < 6:\n",
    "        lock.acquire()\n",
    "        if thread ==\"T_1\" and Number <6:\n",
    "            print(f\"{thread}:{Number}\")\n",
    "            thread = \"T_2\"\n",
    "            Number += 1\n",
    "        lock.release()\n",
    "\n",
    "    \n",
    "def Thd2():\n",
    "    global Number,thread\n",
    "\n",
    "    while Number < 6:\n",
    "        lock.acquire()\n",
    "        if thread ==\"T_2\" and Number <6:\n",
    "            print(f\"{thread}:{Number}\")\n",
    "            thread = \"T_1\"\n",
    "            Number += 1\n",
    "        lock.release()\n",
    "\n",
    "\n",
    "l1 = Thread(target=Thd1)\n",
    "l2 = Thread(target=Thd2)\n",
    "\n",
    "l1.start()\n",
    "l2.start()\n",
    "\n",
    "l1.join()\n",
    "l2.join() \n",
    "\n"
   ]
  },
  {
   "cell_type": "markdown",
   "id": "8d45fee2",
   "metadata": {},
   "source": [
    "## 3. Thread Pooling\n",
    "\n",
    "Use the `concurrent.futures.ThreadPoolExecutor` module to create a thread pool and parallelize a task (e.g., calculating the square of numbers) among multiple threads.\n",
    "\n",
    "```python\n",
    "numbers = [1, 2, 3, 4, 5]\n",
    "```"
   ]
  },
  {
   "cell_type": "code",
   "execution_count": 34,
   "id": "0379e5e9",
   "metadata": {},
   "outputs": [
    {
     "name": "stdout",
     "output_type": "stream",
     "text": [
      "1:1\n",
      "2:4\n",
      "3:9\n",
      "4:16\n",
      "5:25\n"
     ]
    }
   ],
   "source": [
    "# your code here\n",
    "from concurrent.futures import ThreadPoolExecutor\n",
    "\n",
    "def Square(tab):\n",
    "    print(f\"{tab}:{tab**2}\")\n",
    "\n",
    "\n",
    "with ThreadPoolExecutor() as executer:\n",
    "    Tab = [1,2,3,4,5]\n",
    "    executer.map(Square,Tab)"
   ]
  },
  {
   "cell_type": "markdown",
   "id": "aacf816a",
   "metadata": {},
   "source": [
    "## 4. Thread with Function Arguments\n",
    "\n",
    "```python\n",
    "\n",
    "import threading\n",
    "import time\n",
    "\n",
    "def print_hello():\n",
    "    for _ in range(5):\n",
    "        print(\"Hello, \", end='')\n",
    "        time.sleep(0.1)\n",
    "\n",
    "def print_world():\n",
    "    for _ in range(5):\n",
    "        print(\"World!\")\n",
    "        time.sleep(0.1)\n",
    "\n",
    "# Create two threads\n",
    "thread1 = threading.Thread(target=print_hello)\n",
    "thread2 = threading.Thread(target=print_world)\n",
    "\n",
    "# Start the threads\n",
    "thread1.start()\n",
    "thread2.start()\n",
    "\n",
    "# Wait for both threads to finish\n",
    "thread1.join()\n",
    "thread2.join()\n",
    "```\n",
    "\n",
    "Modify this program to pass an argument to the threads and print the thread's name along with the message."
   ]
  },
  {
   "cell_type": "code",
   "execution_count": 37,
   "id": "d7fd05ee",
   "metadata": {},
   "outputs": [
    {
     "name": "stdout",
     "output_type": "stream",
     "text": [
      "Thread-61 (print_hello) Hello, Thread-62 (print_world) World!\n",
      "Thread-61 (print_hello) Hello, Thread-62 (print_world) World!\n",
      "Thread-61 (print_hello) Hello, Thread-62 (print_world) World!\n",
      "Thread-61 (print_hello) Hello, Thread-62 (print_world) World!\n",
      "Thread-61 (print_hello) Hello, Thread-62 (print_world) World!\n"
     ]
    }
   ],
   "source": [
    "#your code here\n",
    "from threading import current_thread\n",
    "\n",
    "import threading\n",
    "import time\n",
    "\n",
    "def print_hello():\n",
    "    for _ in range(5):\n",
    "        print(current_thread().name,\"Hello, \", end='')\n",
    "        time.sleep(0.3)\n",
    "\n",
    "def print_world():\n",
    "    for _ in range(5):\n",
    "        print(current_thread().name,\"World!\")\n",
    "        time.sleep(0.3)\n",
    "\n",
    "# Create two threads\n",
    "thread1 = threading.Thread(target=print_hello)\n",
    "thread2 = threading.Thread(target=print_world)\n",
    "\n",
    "# Start the threads\n",
    "thread1.start()\n",
    "thread2.start()\n",
    "\n",
    "# Wait for both threads to finish\n",
    "thread1.join()\n",
    "thread2.join()\n"
   ]
  },
  {
   "cell_type": "code",
   "execution_count": 13,
   "id": "d2fbff02",
   "metadata": {},
   "outputs": [
    {
     "name": "stdout",
     "output_type": "stream",
     "text": [
      "Final Counter Value: 2000000\n"
     ]
    }
   ],
   "source": []
  }
 ],
 "metadata": {
  "kernelspec": {
   "display_name": "Python 3",
   "language": "python",
   "name": "python3"
  },
  "language_info": {
   "codemirror_mode": {
    "name": "ipython",
    "version": 3
   },
   "file_extension": ".py",
   "mimetype": "text/x-python",
   "name": "python",
   "nbconvert_exporter": "python",
   "pygments_lexer": "ipython3",
   "version": "3.11.5"
  }
 },
 "nbformat": 4,
 "nbformat_minor": 5
}
